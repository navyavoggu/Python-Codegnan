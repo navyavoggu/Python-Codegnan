{
 "cells": [
  {
   "cell_type": "code",
   "execution_count": 7,
   "id": "0c275754-a7dc-41ca-919a-4d0e02b82080",
   "metadata": {},
   "outputs": [
    {
     "name": "stdout",
     "output_type": "stream",
     "text": [
      "10\n",
      "33\n",
      "75\n"
     ]
    }
   ],
   "source": [
    "#4. variable /Arbitary length of positional aruguments\n",
    "def sum_of_nums(*args):\n",
    "    #print(type(args))\n",
    "    #print(args)\n",
    "    s=0\n",
    "    for i in range(len(args)):\n",
    "        s += args[i]\n",
    "    return s\n",
    "#print(sum_of_nums())\n",
    "print(sum_of_nums(10))\n",
    "print(sum_of_nums(10,11,12))\n",
    "print(sum_of_nums(10,11,12,13,14,15))\n",
    "         "
   ]
  },
  {
   "cell_type": "code",
   "execution_count": 7,
   "id": "77cfd490-a64a-44d5-ae46-51e060c19e7b",
   "metadata": {},
   "outputs": [
    {
     "name": "stdout",
     "output_type": "stream",
     "text": [
      "10\n",
      "33\n",
      "75\n"
     ]
    }
   ],
   "source": [
    "#Positional variable /Arbitary length of positional aruguments\n",
    "def sum_of_nums(*args):\n",
    "    #print(type(args))\n",
    "    #print(args)\n",
    "    s=0\n",
    "    for i in range(len(args)):\n",
    "        s += args[i]\n",
    "    return s\n",
    "#print(sum_of_nums())\n",
    "print(sum_of_nums(10))\n",
    "print(sum_of_nums(10,11,12))\n",
    "print(sum_of_nums(10,11,12,13,14,15))\n",
    "         "
   ]
  },
  {
   "cell_type": "code",
   "execution_count": 10,
   "id": "fed5bcef-2a1a-4bde-a776-d41a9f011bfa",
   "metadata": {},
   "outputs": [
    {
     "name": "stdout",
     "output_type": "stream",
     "text": [
      "<class 'dict'>\n",
      "{'n1': 5, 'n2': 10, 'a': 11}\n",
      "None\n"
     ]
    }
   ],
   "source": [
    "#Variable length of keyword Aruguments\n",
    "#Function defination\n",
    "def fun(**kwargs):\n",
    "    print(type(kwargs))\n",
    "    print(kwargs)\n",
    "print(fun(n1 = 5,n2 = 10,a=11))\n",
    "    "
   ]
  },
  {
   "cell_type": "code",
   "execution_count": 11,
   "id": "e2b04b9e-683e-4820-89ba-8fe6475f442d",
   "metadata": {},
   "outputs": [
    {
     "name": "stdout",
     "output_type": "stream",
     "text": [
      "<class 'dict'>\n",
      "{'apple': 10, 'orange': 100, 'mango': 150}\n",
      "None\n"
     ]
    }
   ],
   "source": [
    "#Variable length of keyword Aruguments\n",
    "#Function defination\n",
    "def fun(**kwargs):\n",
    "    print(type(kwargs))\n",
    "    print(kwargs)\n",
    "print(fun(apple = 10,orange = 100,mango=150))\n",
    "    "
   ]
  },
  {
   "cell_type": "code",
   "execution_count": 17,
   "id": "e46ae905-04a8-4ada-9102-1a6da00e50aa",
   "metadata": {},
   "outputs": [
    {
     "name": "stdout",
     "output_type": "stream",
     "text": [
      "apple : 10\n",
      "orange : 100\n",
      "mango : 150\n",
      "Total: 260\n"
     ]
    }
   ],
   "source": [
    "#Variable length of keyword Aruguments\n",
    "#Function defination\n",
    "def fun(**kwargs):\n",
    "    total = 0\n",
    "    for item in kwargs.items():\n",
    "        print(f\"{item[0]} : {item[1]}\")\n",
    "        total += item[1]\n",
    "    return total\n",
    "    \n",
    "print(\"Total:\",fun(apple = 10,orange = 100,mango=150))\n"
   ]
  },
  {
   "cell_type": "code",
   "execution_count": 18,
   "id": "f450ea0e-fe44-470e-b69e-ae7c464eeff5",
   "metadata": {},
   "outputs": [
    {
     "name": "stdout",
     "output_type": "stream",
     "text": [
      "apple : 10\n",
      "orange : 100\n",
      "mango : 150\n",
      "Total: 260\n",
      "**********************************\n",
      "pen : 10\n",
      "book : 110\n",
      "Total: 120\n"
     ]
    }
   ],
   "source": [
    "#Variable length of keyword Aruguments\n",
    "#Function defination\n",
    "def fun(**kwargs):\n",
    "    total = 0\n",
    "    for item in kwargs.items():\n",
    "        print(f\"{item[0]} : {item[1]}\")\n",
    "        total += item[1]\n",
    "    return total\n",
    "    \n",
    "print(\"Total:\",fun(apple = 10,orange = 100,mango=150))\n",
    "print(\"**********************************\")\n",
    "print(\"Total:\",fun(pen = 10,book = 110))\n"
   ]
  },
  {
   "cell_type": "code",
   "execution_count": null,
   "id": "5f5680ea-4134-44b2-99ec-a8ebeb00424e",
   "metadata": {},
   "outputs": [],
   "source": []
  },
  {
   "cell_type": "code",
   "execution_count": null,
   "id": "f0f0222a-3a0b-48e8-9689-751ecd38145c",
   "metadata": {},
   "outputs": [],
   "source": []
  }
 ],
 "metadata": {
  "kernelspec": {
   "display_name": "Python 3 (ipykernel)",
   "language": "python",
   "name": "python3"
  },
  "language_info": {
   "codemirror_mode": {
    "name": "ipython",
    "version": 3
   },
   "file_extension": ".py",
   "mimetype": "text/x-python",
   "name": "python",
   "nbconvert_exporter": "python",
   "pygments_lexer": "ipython3",
   "version": "3.13.7"
  }
 },
 "nbformat": 4,
 "nbformat_minor": 5
}
