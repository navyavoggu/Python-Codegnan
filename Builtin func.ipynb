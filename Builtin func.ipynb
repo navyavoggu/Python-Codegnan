{
 "cells": [
  {
   "cell_type": "code",
   "execution_count": null,
   "id": "f410fb5f-b696-43e2-96e3-b609d5879a97",
   "metadata": {},
   "outputs": [],
   "source": [
    "Builtin Functions\n",
    " - The functions provided by python without impoting from any module, those functions called as Built in functions.\n",
    "     "
   ]
  },
  {
   "cell_type": "code",
   "execution_count": 1,
   "id": "7959c182-f3db-4435-9bce-a24f6a2d5bf5",
   "metadata": {},
   "outputs": [
    {
     "name": "stdout",
     "output_type": "stream",
     "text": [
      "10\n",
      "5\n"
     ]
    }
   ],
   "source": [
    "#abs()-It returns absulute value\n",
    "print(abs(10))\n",
    "print(abs(-5))\n",
    "     "
   ]
  },
  {
   "cell_type": "code",
   "execution_count": 2,
   "id": "65268614-72c0-4d6d-9a1c-73b0ead891c1",
   "metadata": {},
   "outputs": [
    {
     "name": "stdout",
     "output_type": "stream",
     "text": [
      "['n', 'a', 'n', 'g', 'e', 'd', 'o', 'C']\n"
     ]
    }
   ],
   "source": [
    "# sequence functions\n",
    "#reversed - It reverse the sequence\n",
    "s = \"Codegnan\"\n",
    "print(list(reversed(s)))"
   ]
  },
  {
   "cell_type": "code",
   "execution_count": 4,
   "id": "37233225-bead-4e0d-9a18-2610cd8bec3e",
   "metadata": {},
   "outputs": [
    {
     "name": "stdout",
     "output_type": "stream",
     "text": [
      "['n', 'a', 'n', 'g', 'e', 'd', 'o', 'C']\n",
      "nangedoC\n"
     ]
    }
   ],
   "source": [
    "# sequence functions\n",
    "#reversed - It reverse the sequence\n",
    "s = \"Codegnan\"\n",
    "print(list(reversed(s)))\n",
    "print(\"\".join(list(reversed(s))))"
   ]
  },
  {
   "cell_type": "code",
   "execution_count": 8,
   "id": "5143dbb2-a140-4a4a-b355-4dc5c4156801",
   "metadata": {},
   "outputs": [
    {
     "name": "stdout",
     "output_type": "stream",
     "text": [
      "['Apple', 'Ball', 'Cat', 'Dog']\n",
      "['Dog', 'Cat', 'Ball', 'Apple']\n",
      "['Cat', 'Dog', 'Ball', 'Apple']\n",
      "['Apple', 'Ball', 'Cat', 'Dog']\n"
     ]
    }
   ],
   "source": [
    "#sorted() - It sorts the sequence\n",
    "lst = ['Apple','Ball','Cat','Dog']\n",
    "print(sorted(lst))\n",
    "print(sorted(lst,reverse = True))\n",
    "print(sorted(lst,key = len))\n",
    "print(sorted(lst,key =len,reverse = True))"
   ]
  },
  {
   "cell_type": "code",
   "execution_count": 9,
   "id": "82e7d72e-c71f-4eea-80a5-ad519ae134f7",
   "metadata": {},
   "outputs": [
    {
     "name": "stdout",
     "output_type": "stream",
     "text": [
      "<enumerate object at 0x0000020FE007F830>\n",
      "[(0, 'Apple'), (1, 'Ball'), (2, 'Cat'), (3, 'Dog')]\n"
     ]
    }
   ],
   "source": [
    "#enumerate() - It returns a sequence as list of tuple of index and value pairs\n",
    "lst =['Apple', 'Ball', 'Cat', 'Dog']\n",
    "print(enumerate(lst))\n",
    "print(list(enumerate(lst)))"
   ]
  },
  {
   "cell_type": "code",
   "execution_count": 12,
   "id": "0c80f3d1-f221-412e-9df3-d910a962c0ca",
   "metadata": {},
   "outputs": [
    {
     "name": "stdout",
     "output_type": "stream",
     "text": [
      "True\n",
      "False\n",
      "True\n"
     ]
    }
   ],
   "source": [
    "#any() - This function returns True if any one element in sequence is non zero or non empty sequence\n",
    "lst = [1,2, 'Hi',1,0,0,0]\n",
    "print(any(lst))\n",
    "print(any([0,0,0,0,0]))\n",
    "print(any(['one of the',0,1,0,1]))"
   ]
  },
  {
   "cell_type": "code",
   "execution_count": 15,
   "id": "e9f906a0-284b-453f-b1a4-7f62416bdb4e",
   "metadata": {},
   "outputs": [
    {
     "name": "stdout",
     "output_type": "stream",
     "text": [
      "False\n",
      "False\n",
      "False\n",
      "True\n",
      "True\n",
      "False\n"
     ]
    }
   ],
   "source": [
    "#all() - This function returns True if all elements in sequence is non zero or non empty sequence\n",
    "lst = [1,2, 'Hi',1,0,0,0]\n",
    "print(all(lst))\n",
    "print(all([0,0,0,0,0]))\n",
    "print(all(['one of the',0,1,0,1]))\n",
    "print(all([1,2,3,4]))\n",
    "print(all([1,2,3]))\n",
    "print(all([1,2,3,0]))"
   ]
  },
  {
   "cell_type": "code",
   "execution_count": 17,
   "id": "d8c56f7f-f23b-42bd-afa3-04df17e986e5",
   "metadata": {},
   "outputs": [
    {
     "name": "stdout",
     "output_type": "stream",
     "text": [
      "[11, 21, 31, 41]\n"
     ]
    }
   ],
   "source": [
    "#map(fun,seq) - It applys the function on each element in sequence\n",
    "def add_one(x):\n",
    "    return x+1\n",
    "lst = [10,20,30,40]\n",
    "print(list(map(add_one,lst)))\n",
    "      "
   ]
  },
  {
   "cell_type": "code",
   "execution_count": 21,
   "id": "3d54f256-bcd7-4088-8e2e-1b809e9a6f5a",
   "metadata": {},
   "outputs": [
    {
     "name": "stdout",
     "output_type": "stream",
     "text": [
      "[10, None, 30, 40]\n",
      "[10, 30, 40]\n"
     ]
    }
   ],
   "source": [
    "#filter(fun,seq) - It filters the sequence of element based on function and it stores non zero or non empty sequence\n",
    "def even_numbers(x):\n",
    "    if x%2==0:\n",
    "        return x\n",
    "lst = [10,201,30,40]\n",
    "print(list(map(even_numbers,lst)))\n",
    "print(list(filter(even_numbers,lst)))"
   ]
  },
  {
   "cell_type": "code",
   "execution_count": 22,
   "id": "45162bf1-4261-41ec-811b-0706d42ac898",
   "metadata": {},
   "outputs": [
    {
     "data": {
      "text/plain": [
       "True"
      ]
     },
     "execution_count": 22,
     "metadata": {},
     "output_type": "execute_result"
    }
   ],
   "source": [
    "0%2==0"
   ]
  },
  {
   "cell_type": "code",
   "execution_count": 23,
   "id": "878fe45c-112b-4876-b8bf-1a48a895d9d5",
   "metadata": {},
   "outputs": [
    {
     "name": "stdout",
     "output_type": "stream",
     "text": [
      "[(1, 'a'), (2, 'b'), (3, 'c'), (4, 'd')]\n"
     ]
    }
   ],
   "source": [
    "#zip(seqs) - It returns list of tuple of all sequence elements\n",
    "l1 = [1,2,3,4]\n",
    "l2 = ['a','b','c','d']\n",
    "print(list(zip(l1,l2)))"
   ]
  },
  {
   "cell_type": "code",
   "execution_count": null,
   "id": "f3e8b31b-9336-425c-b536-f1bff3aa996b",
   "metadata": {},
   "outputs": [],
   "source": []
  }
 ],
 "metadata": {
  "kernelspec": {
   "display_name": "Python 3 (ipykernel)",
   "language": "python",
   "name": "python3"
  },
  "language_info": {
   "codemirror_mode": {
    "name": "ipython",
    "version": 3
   },
   "file_extension": ".py",
   "mimetype": "text/x-python",
   "name": "python",
   "nbconvert_exporter": "python",
   "pygments_lexer": "ipython3",
   "version": "3.13.7"
  }
 },
 "nbformat": 4,
 "nbformat_minor": 5
}
