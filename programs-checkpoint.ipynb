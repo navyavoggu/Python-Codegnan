{
 "cells": [
  {
   "cell_type": "code",
   "execution_count": 1,
   "id": "57e33898-5847-4955-a668-1d3144475bf2",
   "metadata": {},
   "outputs": [
    {
     "name": "stdout",
     "output_type": "stream",
     "text": [
      "hi\n"
     ]
    }
   ],
   "source": [
    "print(\"hi\")"
   ]
  },
  {
   "cell_type": "code",
   "execution_count": 2,
   "id": "c5740f76-163a-411a-ba29-2a1e597e2c8d",
   "metadata": {},
   "outputs": [
    {
     "name": "stdout",
     "output_type": "stream",
     "text": [
      "* * * * * \n",
      "* * * * * \n",
      "* * * * * \n",
      "* * * * * \n",
      "* * * * * \n"
     ]
    }
   ],
   "source": [
    "n=5\n",
    "for i in range(n):\n",
    "   for j in range(n):\n",
    "       print(\"*\",end = \" \")\n",
    "   print()"
   ]
  },
  {
   "cell_type": "code",
   "execution_count": 25,
   "id": "aa764207-aee5-4965-bdad-8d54129c0c87",
   "metadata": {},
   "outputs": [
    {
     "name": "stdout",
     "output_type": "stream",
     "text": [
      "0 1 0 1 0 \n",
      "1 0 1 0 1 \n",
      "0 1 0 1 0 \n",
      "1 0 1 0 1 \n",
      "0 1 0 1 0 \n"
     ]
    }
   ],
   "source": [
    "n=5\n",
    "for i in range(n):\n",
    "   for j in range(n):\n",
    "       if (i+j)%2==0:\n",
    "            print(\"0\",end = \" \")\n",
    "       else:\n",
    "            print(\"1\",end=\" \")\n",
    "   print()"
   ]
  },
  {
   "cell_type": "code",
   "execution_count": 13,
   "id": "a7401891-2390-48f9-9da7-5452c955b3ff",
   "metadata": {},
   "outputs": [
    {
     "name": "stdout",
     "output_type": "stream",
     "text": [
      "*         \n",
      "  *       \n",
      "    *     \n",
      "      *   \n",
      "        * \n"
     ]
    }
   ],
   "source": [
    "n = 5\n",
    "for i in range(n):\n",
    "    for j in range(n):\n",
    "       if i==j:\n",
    "           print(\"*\",end=\" \")\n",
    "       else:\n",
    "           print(\" \",end=\" \")\n",
    "    print()"
   ]
  },
  {
   "cell_type": "code",
   "execution_count": 10,
   "id": "3a3629f1-9ec6-4ab7-b881-ff808925ec84",
   "metadata": {},
   "outputs": [
    {
     "name": "stdout",
     "output_type": "stream",
     "text": [
      "*       * \n",
      "  *   *   \n",
      "    *     \n",
      "  *   *   \n",
      "*       * \n"
     ]
    }
   ],
   "source": [
    "n = 5\n",
    "for i in range(n):\n",
    "    for j in range(n):\n",
    "        if i==j or (i+j)== n-1:  \n",
    "            print(\"*\",end=\" \")\n",
    "        else:\n",
    "            print(\" \",end=\" \")\n",
    "    print()"
   ]
  },
  {
   "cell_type": "code",
   "execution_count": 16,
   "id": "86c96b3e-fa02-4f60-b4b3-d25d15bad071",
   "metadata": {},
   "outputs": [
    {
     "name": "stdout",
     "output_type": "stream",
     "text": [
      "1         \n",
      "2 2       \n",
      "3 3 3     \n",
      "4 4 4 4   \n",
      "5 5 5 5 5 \n"
     ]
    }
   ],
   "source": [
    "n = 5\n",
    "for i in range(n):\n",
    "    for j in range(n):\n",
    "        if i>=j:\n",
    "            print(i+1,end=\" \")\n",
    "        else:\n",
    "            print(\" \",end=\" \")\n",
    "    print()"
   ]
  },
  {
   "cell_type": "code",
   "execution_count": 22,
   "id": "bd34d73f-05dd-44c4-8b61-8a4cadc37eab",
   "metadata": {},
   "outputs": [
    {
     "name": "stdout",
     "output_type": "stream",
     "text": [
      "* * * * * \n",
      "  * * * * \n",
      "    * * * \n",
      "      * * \n",
      "        * \n"
     ]
    }
   ],
   "source": [
    "n = 5\n",
    "for i in range(n):\n",
    "    for j in range(n):\n",
    "        if i<=j:\n",
    "            print(\"*\",end=\" \")\n",
    "        else:\n",
    "            print(\" \",end=\" \")\n",
    "    print()"
   ]
  },
  {
   "cell_type": "code",
   "execution_count": 19,
   "id": "8254f887-cfd6-47af-97d0-3ddede66fb04",
   "metadata": {},
   "outputs": [
    {
     "name": "stdout",
     "output_type": "stream",
     "text": [
      "1 \n",
      "1 2 \n",
      "1 2 3 \n",
      "1 2 3 4 \n",
      "1 2 3 4 5 \n"
     ]
    }
   ],
   "source": [
    "n = 5\n",
    "for i in range(n):\n",
    "    for j in range(n):\n",
    "        if i>=j:\n",
    "            print(j+1,end=\" \")\n",
    "        else:\n",
    "            break\n",
    "            print(\" \",end=\" \")\n",
    "    print()"
   ]
  },
  {
   "cell_type": "code",
   "execution_count": 21,
   "id": "dc085cfd-fc4d-4e9f-a972-4876956d6702",
   "metadata": {},
   "outputs": [
    {
     "name": "stdout",
     "output_type": "stream",
     "text": [
      "1 2 3 4 5 \n",
      "\n",
      "\n",
      "\n",
      "\n"
     ]
    }
   ],
   "source": [
    "n = 5\n",
    "for i in range(n):\n",
    "    for j in range(n):\n",
    "        if i<=j:\n",
    "            print(j+1,end=\" \")\n",
    "        else:\n",
    "            break\n",
    "            print(\" \",end=\" \")\n",
    "    print()"
   ]
  },
  {
   "cell_type": "code",
   "execution_count": 24,
   "id": "a33df07f-bb9b-4e67-9618-eeb1b23bf9db",
   "metadata": {},
   "outputs": [
    {
     "name": "stdout",
     "output_type": "stream",
     "text": [
      "1 2 3 4 5 \n",
      "  2 3 4 5 \n",
      "    3 4 5 \n",
      "      4 5 \n",
      "        5 \n"
     ]
    }
   ],
   "source": [
    "n = 5\n",
    "for i in range(n):\n",
    "    for j in range(n):\n",
    "        if i <= j:\n",
    "            print(j+1,end=\" \")\n",
    "        else:\n",
    "            print(\" \",end=\" \")\n",
    "    print()"
   ]
  },
  {
   "cell_type": "code",
   "execution_count": 25,
   "id": "0785ea71-716c-4659-b391-ba660b4346e6",
   "metadata": {},
   "outputs": [
    {
     "name": "stdout",
     "output_type": "stream",
     "text": [
      "5 4 3 2 1 \n",
      "  4 3 2 1 \n",
      "    3 2 1 \n",
      "      2 1 \n",
      "        1 \n"
     ]
    }
   ],
   "source": [
    "n = 5\n",
    "for i in range(n):\n",
    "    for j in range(n):\n",
    "        if i <= j:\n",
    "            print(n-j,end=\" \")\n",
    "        else:\n",
    "            print(\" \",end=\" \")\n",
    "    print()"
   ]
  },
  {
   "cell_type": "code",
   "execution_count": 26,
   "id": "3451cd0d-d2a3-49dd-b176-502dde420c42",
   "metadata": {},
   "outputs": [
    {
     "name": "stdout",
     "output_type": "stream",
     "text": [
      "5 5 5 5 5 \n",
      "  4 4 4 4 \n",
      "    3 3 3 \n",
      "      2 2 \n",
      "        1 \n"
     ]
    }
   ],
   "source": [
    "n = 5\n",
    "for i in range(n):\n",
    "    for j in range(n):\n",
    "        if i <= j:\n",
    "            print(n-i,end=\" \")\n",
    "        else:\n",
    "            print(\" \",end=\" \")\n",
    "    print()"
   ]
  },
  {
   "cell_type": "code",
   "execution_count": 27,
   "id": "92099ec4-f05e-4087-a926-0a88ddedab57",
   "metadata": {},
   "outputs": [
    {
     "name": "stdout",
     "output_type": "stream",
     "text": [
      "5         \n",
      "4 4       \n",
      "3 3 3     \n",
      "2 2 2 2   \n",
      "1 1 1 1 1 \n"
     ]
    }
   ],
   "source": [
    "n = 5\n",
    "for i in range(n):\n",
    "    for j in range(n):\n",
    "        if i >= j:\n",
    "            print(n-i,end=\" \")\n",
    "        else:\n",
    "            print(\" \",end=\" \")\n",
    "    print()"
   ]
  },
  {
   "cell_type": "code",
   "execution_count": 29,
   "id": "6e44be98-1894-4290-94cc-2893a41f4a52",
   "metadata": {},
   "outputs": [
    {
     "name": "stdout",
     "output_type": "stream",
     "text": [
      "5         \n",
      "4 4       \n",
      "3 3 3     \n",
      "2 2 2 2   \n",
      "1 1 1 1 1 \n"
     ]
    }
   ],
   "source": [
    "n = 5\n",
    "for i in range(n):\n",
    "    for j in range(n):\n",
    "        if i >=j:\n",
    "            print(n-i,end=\" \")\n",
    "        else:\n",
    "            print(\" \",end=\" \")\n",
    "    print()"
   ]
  },
  {
   "cell_type": "code",
   "execution_count": 31,
   "id": "442e2ec8-f376-408f-a083-9d480c910355",
   "metadata": {},
   "outputs": [
    {
     "name": "stdout",
     "output_type": "stream",
     "text": [
      "        * \n",
      "      * * \n",
      "    * * * \n",
      "  * * * * \n",
      "* * * * * \n"
     ]
    }
   ],
   "source": [
    "n = 5\n",
    "for i in range(n):\n",
    "    for j in range(n):\n",
    "        if i+j>=n-1:\n",
    "            print(\"*\",end=\" \")\n",
    "        else:\n",
    "            print(\" \",end=\" \")\n",
    "    print()"
   ]
  },
  {
   "cell_type": "code",
   "execution_count": 34,
   "id": "646cfa3f-0eaf-45ec-9400-000002cccc11",
   "metadata": {},
   "outputs": [
    {
     "name": "stdout",
     "output_type": "stream",
     "text": [
      "* * * * * \n",
      "*       * \n",
      "*       * \n",
      "*       * \n",
      "* * * * * \n"
     ]
    }
   ],
   "source": [
    "n = 5\n",
    "for i in range(n):\n",
    "    for j in range(n):\n",
    "        if i==0 or j==0 or i==n-1 or j==n-1:\n",
    "            print(\"*\",end=\" \")\n",
    "        else:\n",
    "            print(\" \",end=\" \")\n",
    "    print()"
   ]
  },
  {
   "cell_type": "code",
   "execution_count": 35,
   "id": "927349a8-fd7f-4f3d-8d94-4b430ec4f840",
   "metadata": {},
   "outputs": [
    {
     "name": "stdout",
     "output_type": "stream",
     "text": [
      "*         \n",
      "* *       \n",
      "*   *     \n",
      "*     *   \n",
      "* * * * * \n"
     ]
    }
   ],
   "source": [
    "n = 5\n",
    "for i in range(n):\n",
    "    for j in range(n):\n",
    "        if i==j or j==0 or i==n-1:\n",
    "            print(\"*\",end=\" \")\n",
    "        else:\n",
    "            print(\" \",end=\" \")\n",
    "    print()"
   ]
  },
  {
   "cell_type": "code",
   "execution_count": 36,
   "id": "d6a27f2d-b8df-4f88-99f2-b324bec87e27",
   "metadata": {},
   "outputs": [
    {
     "name": "stdout",
     "output_type": "stream",
     "text": [
      "*       * \n",
      "* *     * \n",
      "*   *   * \n",
      "*     * * \n",
      "*       * \n"
     ]
    }
   ],
   "source": [
    "n = 5\n",
    "for i in range(n):\n",
    "    for j in range(n):\n",
    "        if i==j or j==0 or j==n-1:\n",
    "            print(\"*\",end=\" \")\n",
    "        else:\n",
    "            print(\" \",end=\" \")\n",
    "    print()"
   ]
  },
  {
   "cell_type": "code",
   "execution_count": 41,
   "id": "15a5501f-2952-49ea-99e2-a4ce0db033e9",
   "metadata": {},
   "outputs": [
    {
     "name": "stdout",
     "output_type": "stream",
     "text": [
      "* * * * * \n",
      "  *     * \n",
      "    *   * \n",
      "      * * \n",
      "        * \n"
     ]
    }
   ],
   "source": [
    "n = 5\n",
    "for i in range(n):\n",
    "    for j in range(n):\n",
    "        if j==i or i==0 or j==n-1:\n",
    "            print(\"*\",end=\" \")\n",
    "        else:\n",
    "            print(\" \",end=\" \")\n",
    "    print()"
   ]
  },
  {
   "cell_type": "code",
   "execution_count": 42,
   "id": "8fcb2b17-41ae-4e9b-ad50-2225e8265e62",
   "metadata": {},
   "outputs": [
    {
     "name": "stdout",
     "output_type": "stream",
     "text": [
      "* \n",
      "* * \n",
      "* + * \n",
      "* + + * \n",
      "* * * * * \n"
     ]
    }
   ],
   "source": [
    "n = 5\n",
    "for i in range(n):\n",
    "    for j in range(n):\n",
    "        if j==0 or i==j or i==n-1:\n",
    "            print(\"*\",end=\" \")\n",
    "        else:\n",
    "            if i>=j:\n",
    "               print(\"+\",end=\" \")\n",
    "    print()"
   ]
  },
  {
   "cell_type": "code",
   "execution_count": 26,
   "id": "6cc73ebf-e1a6-4275-8b12-0572cd9781f9",
   "metadata": {},
   "outputs": [
    {
     "name": "stdout",
     "output_type": "stream",
     "text": [
      "        * \n",
      "      * * * \n",
      "    * * * * * \n",
      "  * * * * * * * \n",
      "* * * * * * * * * \n"
     ]
    }
   ],
   "source": [
    "rows =5\n",
    "cols=2 * rows-1\n",
    "for i in range(rows):\n",
    "    #for this loop handles starting process\n",
    "    for j in range(rows-i-1):\n",
    "        \n",
    "            print(\" \",end=\" \")\n",
    "        #this loop handles \"*\" patterns\n",
    "    for k in range(2*i+1):\n",
    "            print(\"*\",end=\" \")\n",
    "    print()"
   ]
  },
  {
   "cell_type": "code",
   "execution_count": 29,
   "id": "d5d74a63-531d-427b-a9de-75c51e6de9ff",
   "metadata": {},
   "outputs": [
    {
     "name": "stdout",
     "output_type": "stream",
     "text": [
      "* * * * * * * * * \n",
      "  * * * * * * * \n",
      "    * * * * * \n",
      "      * * * \n",
      "        * \n"
     ]
    }
   ],
   "source": [
    "rows =5\n",
    "cols=2 * rows-1\n",
    "for i in range(rows,0,-1):\n",
    "    #for this loop handles starting process\n",
    "    for j in range(rows-i):\n",
    "        \n",
    "            print(\" \",end=\" \")\n",
    "        #this loop handles \"*\" patterns\n",
    "    for k in range(2*i-1):\n",
    "            print(\"*\",end=\" \")\n",
    "    print()"
   ]
  },
  {
   "cell_type": "code",
   "execution_count": 31,
   "id": "2ba99ba8-1017-4f7b-bd38-d7595f37149d",
   "metadata": {},
   "outputs": [
    {
     "name": "stdout",
     "output_type": "stream",
     "text": [
      "        * \n",
      "      * * * \n",
      "    * * * * * \n",
      "  * * * * * * * \n",
      "* * * * * * * * * \n",
      "  * * * * * * * \n",
      "    * * * * * \n",
      "      * * * \n",
      "        * \n"
     ]
    }
   ],
   "source": [
    "###reverse pyramid\n",
    "rows =5\n",
    "cols=2 * rows-1\n",
    "for i in range(rows):\n",
    "    #for this loop handles starting process\n",
    "    for j in range(rows-i-1):\n",
    "        \n",
    "            print(\" \",end=\" \")\n",
    "        #this loop handles \"*\" patterns\n",
    "    for k in range(2*i+1):\n",
    "            print(\"*\",end=\" \")\n",
    "    print()\n",
    "\n",
    "\n",
    "rows =5\n",
    "cols=2 * rows-1\n",
    "for i in range(rows-1,0,-1):\n",
    "    #for this loop handles starting process\n",
    "    for j in range(rows-i):\n",
    "        \n",
    "            print(\" \",end=\" \")\n",
    "        #this loop handles \"*\" patterns\n",
    "    for k in range(2*i-1):\n",
    "            print(\"*\",end=\" \")\n",
    "    print()"
   ]
  },
  {
   "cell_type": "code",
   "execution_count": 40,
   "id": "c4ccac45-dbc6-4220-96b7-66d079958e50",
   "metadata": {},
   "outputs": [
    {
     "name": "stdout",
     "output_type": "stream",
     "text": [
      "[1, 3, 9]\n"
     ]
    }
   ],
   "source": [
    "n=9\n",
    "res=[]\n",
    "for i in range(1,n+1):\n",
    "   if n%i==0:\n",
    "       res.append(i)\n",
    "print(res)   "
   ]
  },
  {
   "cell_type": "code",
   "execution_count": 44,
   "id": "c48408e7-cadd-4ee5-b8e1-39e578594fd9",
   "metadata": {},
   "outputs": [
    {
     "name": "stdout",
     "output_type": "stream",
     "text": [
      "[1, 2, 5, 10]\n",
      "n is not prime number\n"
     ]
    }
   ],
   "source": [
    "n=10\n",
    "res=[]\n",
    "for i in range(1,n+1):\n",
    "   if n%i==0:\n",
    "       res.append(i)\n",
    "print(res)   \n",
    "if len(res)==2:\n",
    "    print(\"n is prime number\")\n",
    "else:\n",
    "    print(\"n is not prime number\")"
   ]
  },
  {
   "cell_type": "code",
   "execution_count": 46,
   "id": "688ec9a6-020e-4590-be1b-874a4fc37be8",
   "metadata": {},
   "outputs": [
    {
     "name": "stdout",
     "output_type": "stream",
     "text": [
      "n is not prime number\n"
     ]
    }
   ],
   "source": [
    "n=10\n",
    "res=[]\n",
    "for i in range(2,n//2+1):\n",
    "   if n%i==0:\n",
    "    print(\"n is not prime number\")\n",
    "    break\n",
    "else:\n",
    "    print(\"n is prime number\")"
   ]
  }
 ],
 "metadata": {
  "kernelspec": {
   "display_name": "Python 3 (ipykernel)",
   "language": "python",
   "name": "python3"
  },
  "language_info": {
   "codemirror_mode": {
    "name": "ipython",
    "version": 3
   },
   "file_extension": ".py",
   "mimetype": "text/x-python",
   "name": "python",
   "nbconvert_exporter": "python",
   "pygments_lexer": "ipython3",
   "version": "3.13.7"
  }
 },
 "nbformat": 4,
 "nbformat_minor": 5
}
