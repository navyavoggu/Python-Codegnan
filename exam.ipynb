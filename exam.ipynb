{
 "cells": [
  {
   "cell_type": "code",
   "execution_count": 9,
   "id": "fa78fe95-b478-4154-82b9-3750dc92e59c",
   "metadata": {},
   "outputs": [
    {
     "name": "stdin",
     "output_type": "stream",
     "text": [
      "enter a string hello\n"
     ]
    },
    {
     "name": "stdout",
     "output_type": "stream",
     "text": [
      "revrse string: olleh \n"
     ]
    }
   ],
   "source": [
    "def revrse_string(s):\n",
    "    revrse_str = \" \"\n",
    "    for char in s:\n",
    "        revrse_str = char + revrse_str\n",
    "    return revrse_str\n",
    "s=input(\"enter a string\")\n",
    "print(\"revrse string:\",revrse_string(s))\n",
    "           "
   ]
  },
  {
   "cell_type": "code",
   "execution_count": 22,
   "id": "8794f82b-405b-4e5a-b9a8-fe475b250972",
   "metadata": {},
   "outputs": [
    {
     "name": "stdin",
     "output_type": "stream",
     "text": [
      "n 5\n"
     ]
    },
    {
     "name": "stdout",
     "output_type": "stream",
     "text": [
      "factorial of 5 is: 120\n"
     ]
    }
   ],
   "source": [
    "def factorial(n):\n",
    "    if n==0 or n==1:\n",
    "        return 1\n",
    "    else:\n",
    "        result = 1\n",
    "        for i in range(2,n+1):\n",
    "            result *=i\n",
    "        return result\n",
    "n = int(input(\"n\"))\n",
    "print(f\"factorial of {n} is: {factorial(n)}\")"
   ]
  },
  {
   "cell_type": "code",
   "execution_count": 25,
   "id": "efd0a7ca-0a98-4c7c-b855-ff854abb8841",
   "metadata": {},
   "outputs": [
    {
     "name": "stdin",
     "output_type": "stream",
     "text": [
      " listen\n",
      " silent\n"
     ]
    },
    {
     "name": "stdout",
     "output_type": "stream",
     "text": [
      "True\n"
     ]
    }
   ],
   "source": [
    "s1 = input()\n",
    "s2 = input()\n",
    "s1_text=\" \"\n",
    "s2_text = \" \"\n",
    "for i in s1:\n",
    "    if i.isalnum():\n",
    "       s1_text+=i.lower()\n",
    "for i in s2:\n",
    "    if i.isalnum():\n",
    "       s2_text+=i.lower()\n",
    "if sorted(s1_text)==sorted(s2_text):\n",
    "    print(\"True\")\n",
    "else:\n",
    "    print(\"False\")\n",
    " \n",
    "    \n",
    "     \n",
    "     \n",
    "    \n"
   ]
  },
  {
   "cell_type": "code",
   "execution_count": null,
   "id": "3eab389d-3e13-4000-be03-c5fe00e9b312",
   "metadata": {},
   "outputs": [],
   "source": []
  },
  {
   "cell_type": "code",
   "execution_count": null,
   "id": "cbeebe4f-43cf-4d51-b8c8-0334af9979e5",
   "metadata": {},
   "outputs": [],
   "source": []
  },
  {
   "cell_type": "code",
   "execution_count": null,
   "id": "f95f6573-f4ab-4fad-ae57-60a33e36780e",
   "metadata": {},
   "outputs": [],
   "source": []
  },
  {
   "cell_type": "code",
   "execution_count": null,
   "id": "898e3208-2f56-442e-98f3-4b80d97b5e62",
   "metadata": {},
   "outputs": [],
   "source": []
  }
 ],
 "metadata": {
  "kernelspec": {
   "display_name": "Python 3 (ipykernel)",
   "language": "python",
   "name": "python3"
  },
  "language_info": {
   "codemirror_mode": {
    "name": "ipython",
    "version": 3
   },
   "file_extension": ".py",
   "mimetype": "text/x-python",
   "name": "python",
   "nbconvert_exporter": "python",
   "pygments_lexer": "ipython3",
   "version": "3.13.7"
  }
 },
 "nbformat": 4,
 "nbformat_minor": 5
}
