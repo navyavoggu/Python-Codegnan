{
 "cells": [
  {
   "cell_type": "code",
   "execution_count": 19,
   "id": "73a91e98-c317-4c7e-b1ec-c83badd8c294",
   "metadata": {},
   "outputs": [
    {
     "name": "stdout",
     "output_type": "stream",
     "text": [
      "55\n"
     ]
    }
   ],
   "source": [
    "#sum of natural numbers\n",
    "def sum_of_natural(n):\n",
    "    if n==0:\n",
    "        return 0\n",
    "    else:\n",
    "        return n + sum_of_natural(n-1)\n",
    "print(sum_of_natural(10))"
   ]
  },
  {
   "cell_type": "code",
   "execution_count": 17,
   "id": "d8d4d7e4-c7af-4b1a-a1e4-c28c129ea72b",
   "metadata": {},
   "outputs": [
    {
     "name": "stdout",
     "output_type": "stream",
     "text": [
      "15\n"
     ]
    }
   ],
   "source": [
    "#sum of natural numbers\n",
    "def sum_of_natural(n,val=0):\n",
    "    if val==n:\n",
    "        return n\n",
    "    return val + sum_of_natural(n,val+1)\n",
    "print(sum_of_natural(5))"
   ]
  },
  {
   "cell_type": "code",
   "execution_count": null,
   "id": "ca2606bb-7026-4e37-adc6-5019d4438be1",
   "metadata": {},
   "outputs": [],
   "source": []
  }
 ],
 "metadata": {
  "kernelspec": {
   "display_name": "Python 3 (ipykernel)",
   "language": "python",
   "name": "python3"
  },
  "language_info": {
   "codemirror_mode": {
    "name": "ipython",
    "version": 3
   },
   "file_extension": ".py",
   "mimetype": "text/x-python",
   "name": "python",
   "nbconvert_exporter": "python",
   "pygments_lexer": "ipython3",
   "version": "3.13.7"
  }
 },
 "nbformat": 4,
 "nbformat_minor": 5
}
