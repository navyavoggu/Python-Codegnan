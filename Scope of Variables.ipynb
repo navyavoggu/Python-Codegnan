{
 "cells": [
  {
   "cell_type": "code",
   "execution_count": 1,
   "id": "c42239cc-5aa3-4833-9f90-7332d763cb26",
   "metadata": {},
   "outputs": [
    {
     "name": "stdout",
     "output_type": "stream",
     "text": [
      "10\n",
      "(20, 30)\n",
      "{'n1': 10, 'n2': 30}\n"
     ]
    }
   ],
   "source": [
    "#function defination with positional arguments,variable length of positional argument and variable of keyword-argument\n",
    "def fun(a,*args,**kwargs):\n",
    "    print(a)\n",
    "    print(args)\n",
    "    print(kwargs)\n",
    "fun(10,20,30,n1=10,n2=30)"
   ]
  },
  {
   "cell_type": "code",
   "execution_count": 1,
   "id": "be0a3a35-9e2c-48ef-aaca-5fb0a38964fa",
   "metadata": {},
   "outputs": [
    {
     "name": "stdout",
     "output_type": "stream",
     "text": [
      "10\n",
      "(20, 30)\n",
      "{'n1': 10, 'n2': 30}\n"
     ]
    }
   ],
   "source": [
    "the scope of variables in python defines the region of the program whear that variable is recogniszed and can be accessed\n",
    "1.global scope\n",
    "2.local\n",
    "3.non local\n",
    "1.global scope: the variables are defined outside the function those varibles called as global scope variables.\n",
    "2.local scope:the variables are defined inside the function defination those variables called as local scope varibales.\n",
    "3.non local scope:the variables are defined inside the nested function (a function contains one more function)those variables called non local scope variables.\n",
    "\n",
    "global variables can be access throught the program but we cant update directly \n",
    "in below program will write book  ex :2"
   ]
  },
  {
   "cell_type": "code",
   "execution_count": 2,
   "id": "0f2d0d67-6579-44b1-9841-30a9cab6a50c",
   "metadata": {},
   "outputs": [
    {
     "name": "stdout",
     "output_type": "stream",
     "text": [
      "20\n",
      "30\n",
      "10\n"
     ]
    }
   ],
   "source": [
    "#Types of variables\n",
    "#1.global\n",
    "#2.local\n",
    "#3.non local\n",
    "x=10#global\n",
    "def outer():\n",
    "   y=20#local\n",
    "   print(y)\n",
    "   def inner():\n",
    "       z=30#non local\n",
    "       print(z)\n",
    "   inner()\n",
    "outer()\n",
    "print(x)"
   ]
  },
  {
   "cell_type": "code",
   "execution_count": 2,
   "id": "5d3d3afc-02ca-417a-ab07-2d9a814dea76",
   "metadata": {},
   "outputs": [
    {
     "name": "stdout",
     "output_type": "stream",
     "text": [
      "20\n",
      "30\n",
      "10\n"
     ]
    }
   ],
   "source": [
    "#by defining the one variable with global keyword we can update the global scope variable inside the local scope\n",
    "#by defining the variable with non local keyword local variables we can update in non local scope\n",
    "x=10#global\n",
    "def outer():\n",
    "   y=20#local\n",
    "   #x + x+1 #it riase error becaues updating the global variable in local scope\n",
    "   def inner():\n",
    "       z=30#non local\n",
    "       print(\"non local scope:\",z)\n",
    "       print(\"local:\",y)\n",
    "   inner()\n",
    "outer()\n",
    "print(\"global:\",x)"
   ]
  },
  {
   "cell_type": "code",
   "execution_count": 21,
   "id": "f46da507-574b-40fd-af3b-9766205bd74f",
   "metadata": {},
   "outputs": [
    {
     "name": "stdout",
     "output_type": "stream",
     "text": [
      "non local scope: 12\n",
      "local: 12\n",
      "global: 11\n"
     ]
    }
   ],
   "source": [
    "# Updating global scope variable in loacl scope with global keyword\n",
    "# Updating local variable in non local scope with nonlocal keyword\n",
    "x=10#global scope\n",
    "def outer():\n",
    "   global x\n",
    "   x = x+1 # global scope variable update\n",
    "   y= 10 #local scope variable\n",
    "   def inner():\n",
    "       nonlocal y\n",
    "       y=y+2 #local scope variable update\n",
    "       print(\"non local scope:\",y)\n",
    "   inner()\n",
    "   print(\"local:\",y)\n",
    "outer()\n",
    "print(\"global:\",x)"
   ]
  },
  {
   "cell_type": "code",
   "execution_count": 8,
   "id": "ff9095e1-7084-40ef-a0ae-3bc1bb1da4d3",
   "metadata": {},
   "outputs": [
    {
     "name": "stdout",
     "output_type": "stream",
     "text": [
      "20\n",
      "local scope: 20\n",
      "non local scope: 30\n",
      "global scope: 10\n"
     ]
    }
   ],
   "source": [
    "def outer():\n",
    "   y=20\n",
    "   print(y)\n",
    "   def inner():\n",
    "       z=30\n",
    "       print(\"non local scope:\",z)\n",
    "   print(\"local scope:\",y)\n",
    "   inner()\n",
    "outer()\n",
    "print(\"global scope:\",x)"
   ]
  },
  {
   "cell_type": "code",
   "execution_count": 12,
   "id": "2b581cbf-642f-401d-b86a-c207df5c7d2e",
   "metadata": {},
   "outputs": [
    {
     "name": "stdout",
     "output_type": "stream",
     "text": [
      "non local scope: 60\n",
      "local scope: 30\n",
      "global scope: 10\n"
     ]
    }
   ],
   "source": [
    "#using the global scope variable in local scope and non loacl scope \n",
    "x=10#global\n",
    "def outer():\n",
    "   y=20#loacl\n",
    "   a=y+x#a is local\n",
    "   def inner():\n",
    "       z=30#non local\n",
    "       b=x+y+z#b is non loacl\n",
    "       print(\"non local scope:\",b)\n",
    "   inner()\n",
    "   print(\"local scope:\",a)\n",
    "   \n",
    "outer()\n",
    "print(\"global scope:\",x)"
   ]
  },
  {
   "cell_type": "code",
   "execution_count": 10,
   "id": "dbcdbd6d-dc11-4ad7-90b1-d0f263be7dba",
   "metadata": {},
   "outputs": [
    {
     "name": "stdout",
     "output_type": "stream",
     "text": [
      "non local scope: 70\n",
      "local scope: 30\n",
      "global scope: 10\n"
     ]
    }
   ],
   "source": [
    "\n",
    "x=10\n",
    "def outer():\n",
    "   y=20\n",
    "   y=y+x\n",
    "   def inner():\n",
    "       z=30\n",
    "       z=x+y+z\n",
    "       print(\"non local scope:\",z)\n",
    "   inner()\n",
    "   print(\"local scope:\",y)\n",
    "   \n",
    "outer()\n",
    "print(\"global scope:\",x)"
   ]
  },
  {
   "cell_type": "code",
   "execution_count": 19,
   "id": "916fce04-bcbc-4fb7-aefd-18207b0bf564",
   "metadata": {},
   "outputs": [
    {
     "name": "stdout",
     "output_type": "stream",
     "text": [
      "non local scope: 30\n",
      "local scope: 21\n"
     ]
    },
    {
     "ename": "NameError",
     "evalue": "name 'y' is not defined",
     "output_type": "error",
     "traceback": [
      "\u001b[31m---------------------------------------------------------------------------\u001b[39m",
      "\u001b[31mNameError\u001b[39m                                 Traceback (most recent call last)",
      "\u001b[36mCell\u001b[39m\u001b[36m \u001b[39m\u001b[32mIn[19]\u001b[39m\u001b[32m, line 12\u001b[39m\n\u001b[32m     10\u001b[39m    \u001b[38;5;28mprint\u001b[39m(\u001b[33m\"\u001b[39m\u001b[33mlocal scope:\u001b[39m\u001b[33m\"\u001b[39m,x)\n\u001b[32m     11\u001b[39m outer()\n\u001b[32m---> \u001b[39m\u001b[32m12\u001b[39m \u001b[38;5;28mprint\u001b[39m(\u001b[33m\"\u001b[39m\u001b[33mglobal scope:\u001b[39m\u001b[33m\"\u001b[39m,\u001b[43my\u001b[49m)\n",
      "\u001b[31mNameError\u001b[39m: name 'y' is not defined"
     ]
    }
   ],
   "source": [
    "\n",
    "x=10\n",
    "def outer():\n",
    "   x=20\n",
    "   x=x+1\n",
    "   def inner():\n",
    "       x=30\n",
    "       y=x+2\n",
    "       print(\"non local scope:\",x)\n",
    "   inner()\n",
    "   print(\"local scope:\",x)\n",
    "outer()\n",
    "print(\"global scope:\",y)"
   ]
  },
  {
   "cell_type": "code",
   "execution_count": 18,
   "id": "74288e7e-7a48-42be-850a-d25380197caf",
   "metadata": {},
   "outputs": [
    {
     "name": "stdout",
     "output_type": "stream",
     "text": [
      "non local scope: 13\n",
      "local scope: 11\n",
      "global scope: 11\n"
     ]
    }
   ],
   "source": [
    "\n",
    "x=10\n",
    "def outer():\n",
    "   global x\n",
    "   x=x+1\n",
    "   def inner():\n",
    "       #x=30\n",
    "       y=x+2\n",
    "       print(\"non local scope:\",y)\n",
    "   inner()\n",
    "   print(\"local scope:\",x)\n",
    "outer()\n",
    "print(\"global scope:\",x)"
   ]
  },
  {
   "cell_type": "code",
   "execution_count": null,
   "id": "ec32e55e-270a-45e6-81ae-df6b18d67cfe",
   "metadata": {},
   "outputs": [],
   "source": []
  }
 ],
 "metadata": {
  "kernelspec": {
   "display_name": "Python 3 (ipykernel)",
   "language": "python",
   "name": "python3"
  },
  "language_info": {
   "codemirror_mode": {
    "name": "ipython",
    "version": 3
   },
   "file_extension": ".py",
   "mimetype": "text/x-python",
   "name": "python",
   "nbconvert_exporter": "python",
   "pygments_lexer": "ipython3",
   "version": "3.13.7"
  }
 },
 "nbformat": 4,
 "nbformat_minor": 5
}
