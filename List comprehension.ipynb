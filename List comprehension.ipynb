{
 "cells": [
  {
   "cell_type": "markdown",
   "id": "9cd9cd01-5a2c-4378-af9e-7c533487ca4b",
   "metadata": {},
   "source": [
    "List Comprehension"
   ]
  },
  {
   "cell_type": "code",
   "execution_count": null,
   "id": "4b03309f-0eb8-4127-bfab-ab662db0c685",
   "metadata": {},
   "outputs": [],
   "source": [
    "Syntax "
   ]
  },
  {
   "cell_type": "code",
   "execution_count": 1,
   "id": "39309554-09c0-422a-9ef6-02905c334e31",
   "metadata": {},
   "outputs": [
    {
     "name": "stdin",
     "output_type": "stream",
     "text": [
      " 10\n"
     ]
    },
    {
     "name": "stdout",
     "output_type": "stream",
     "text": [
      "[1, 2, 3, 4, 5, 6, 7, 8, 9, 10]\n"
     ]
    }
   ],
   "source": [
    "#list of n numbers\n",
    "n = int(input())\n",
    "lst = []\n",
    "for i in range(1,n+1):\n",
    "    lst.append(i)\n",
    "print(lst)"
   ]
  },
  {
   "cell_type": "code",
   "execution_count": 2,
   "id": "d6eb41fc-f3e5-481a-869f-f77e8a34c844",
   "metadata": {},
   "outputs": [
    {
     "name": "stdin",
     "output_type": "stream",
     "text": [
      " 10\n"
     ]
    },
    {
     "name": "stdout",
     "output_type": "stream",
     "text": [
      "[1, 2, 3, 4, 5, 6, 7, 8, 9, 10]\n"
     ]
    }
   ],
   "source": [
    "#List of n numbers using list comprehension\n",
    "n= int(input())\n",
    "res = [x for x in range(1,n+1)]\n",
    "print(res)"
   ]
  },
  {
   "cell_type": "code",
   "execution_count": 3,
   "id": "491b69d4-a8b5-4d2a-b9f1-cb3c23d3d943",
   "metadata": {},
   "outputs": [
    {
     "name": "stdin",
     "output_type": "stream",
     "text": [
      " 20\n"
     ]
    },
    {
     "name": "stdout",
     "output_type": "stream",
     "text": [
      "[2, 4, 6, 8, 10, 12, 14, 16, 18, 20]\n"
     ]
    }
   ],
   "source": [
    "#List of even number between 1 to n\n",
    "n =int(input())\n",
    "res = [x for x in range(1,n+1) if x%2 == 0]\n",
    "print(res)\n"
   ]
  },
  {
   "cell_type": "code",
   "execution_count": 4,
   "id": "6438160f-f6d2-4f07-ba6a-ed6817d03148",
   "metadata": {},
   "outputs": [
    {
     "name": "stdin",
     "output_type": "stream",
     "text": [
      " 10\n"
     ]
    },
    {
     "name": "stdout",
     "output_type": "stream",
     "text": [
      "[0, 2, 4, 6, 8, 10]\n"
     ]
    }
   ],
   "source": [
    "# n even numbers\n",
    "n=int(input())\n",
    "res=[x for x in range(n+1) if x%2 ==0]\n",
    "print(res)"
   ]
  },
  {
   "cell_type": "code",
   "execution_count": 5,
   "id": "076017fb-1ff8-492f-8da5-d5ebd0ce521e",
   "metadata": {},
   "outputs": [
    {
     "name": "stdin",
     "output_type": "stream",
     "text": [
      " 10\n"
     ]
    },
    {
     "name": "stdout",
     "output_type": "stream",
     "text": [
      "[1, 3, 5, 7, 9, 11, 13, 15, 17, 19]\n"
     ]
    }
   ],
   "source": [
    "# n odd numbers\n",
    "n = int(input())\n",
    "res = [x*2+1 for x in range(n)]\n",
    "print(res)"
   ]
  },
  {
   "cell_type": "code",
   "execution_count": 6,
   "id": "e5d224e0-8970-4fbb-aecd-a3a63ed3b3c5",
   "metadata": {},
   "outputs": [
    {
     "name": "stdin",
     "output_type": "stream",
     "text": [
      " 10 20\n"
     ]
    },
    {
     "name": "stdout",
     "output_type": "stream",
     "text": [
      "[10, 12, 14, 16, 18]\n"
     ]
    }
   ],
   "source": [
    "#even numbers between range\n",
    "n1, n2 = map(int,input().split())\n",
    "res = [x for x in range(n1,n2) if x%2==0]\n",
    "print(res)"
   ]
  },
  {
   "cell_type": "markdown",
   "id": "538aa177-eed8-45e7-8c54-69d339e40537",
   "metadata": {},
   "source": [
    "- List Comprehension with if else\n",
    "- syntax: [true_exp if condition else False_exp for iterator in iterable]"
   ]
  },
  {
   "cell_type": "code",
   "execution_count": 7,
   "id": "148e8bbd-94dc-47ee-83ed-65f73100f6b2",
   "metadata": {},
   "outputs": [
    {
     "name": "stdin",
     "output_type": "stream",
     "text": [
      " 1 2 3 4 5 6 \n"
     ]
    },
    {
     "name": "stdout",
     "output_type": "stream",
     "text": [
      "[1, 0, 1, 0, 1, 0]\n"
     ]
    }
   ],
   "source": [
    "#list of numbers convert into 1 and 0's.\n",
    "#even number - 0\n",
    "#odd number -1\n",
    "lst = list(map(int,input().split()))\n",
    "res = [0  if num%2==0 else 1 for num in lst]\n",
    "print(res)"
   ]
  },
  {
   "cell_type": "code",
   "execution_count": 9,
   "id": "ec50c7f7-25a1-4bb5-b45f-2a32315e8353",
   "metadata": {},
   "outputs": [
    {
     "name": "stdout",
     "output_type": "stream",
     "text": [
      "[4, 1, 4, 8, 2, 12, 3]\n"
     ]
    }
   ],
   "source": [
    "#list of numbers convert into 1 and 0's.\n",
    "#even number - left shift by 1\n",
    "#odd number - right shift by 1\n",
    "lst = [2,3,2,4,5,6,7]\n",
    "res = [num<<1 if num%2==0 else num>>1 for num in lst]\n",
    "print(res)"
   ]
  },
  {
   "cell_type": "code",
   "execution_count": 10,
   "id": "f850e3cf-389c-415c-b8ae-d3ec8f3be3b4",
   "metadata": {},
   "outputs": [
    {
     "name": "stdout",
     "output_type": "stream",
     "text": [
      "[(1, 1), (1, 2), (1, 3), (1, 4), (1, 5), (1, 6), (2, 1), (2, 2), (2, 3), (2, 4), (2, 5), (2, 6), (3, 1), (3, 2), (3, 3), (3, 4), (3, 5), (3, 6), (4, 1), (4, 2), (4, 3), (4, 4), (4, 5), (4, 6), (5, 1), (5, 2), (5, 3), (5, 4), (5, 5), (5, 6), (6, 1), (6, 2), (6, 3), (6, 4), (6, 5), (6, 6)]\n"
     ]
    }
   ],
   "source": [
    "#two dice combinantions\n",
    "res = [(x,y) for x in range(1,7) for y in range(1,7)]\n",
    "print(res)"
   ]
  },
  {
   "cell_type": "code",
   "execution_count": 11,
   "id": "402ea9c4-f25d-418a-8862-41cefb2e850e",
   "metadata": {},
   "outputs": [
    {
     "name": "stdout",
     "output_type": "stream",
     "text": [
      "[(1, 1), (1, 3), (1, 5), (2, 2), (2, 4), (2, 6), (3, 1), (3, 3), (3, 5), (4, 2), (4, 4), (4, 6), (5, 1), (5, 3), (5, 5), (6, 2), (6, 4), (6, 6)]\n"
     ]
    }
   ],
   "source": [
    "#sum of two dice combinantions\n",
    "res = [(x,y) for x in range(1,7) for y in range(1,7) if (x+y)%2==0]\n",
    "print(res)"
   ]
  },
  {
   "cell_type": "code",
   "execution_count": 12,
   "id": "5bd7253c-6597-4b91-8d21-e056a520cdf8",
   "metadata": {},
   "outputs": [
    {
     "name": "stdout",
     "output_type": "stream",
     "text": [
      "[(1, 1), (2, 2), (3, 3), (4, 4), (5, 5), (6, 6)]\n"
     ]
    }
   ],
   "source": [
    "#two dices faces is same\n",
    "res = [(x,y) for x in range(1,7) for y in range(1,7) if x==y]\n",
    "print(res)"
   ]
  },
  {
   "cell_type": "code",
   "execution_count": 14,
   "id": "9fd70ef4-a15d-4394-921b-284a30ca33ba",
   "metadata": {},
   "outputs": [
    {
     "name": "stdout",
     "output_type": "stream",
     "text": [
      "[(1, 4), (2, 4), (3, 4), (4, 1), (4, 2), (4, 3), (4, 4), (4, 5), (4, 6), (5, 4), (6, 4)]\n"
     ]
    }
   ],
   "source": [
    "#two dices faces 4\n",
    "res = [(x,y) for x in range(1,7) for y in range(1,7) if x==4 or y==4]\n",
    "print(res)"
   ]
  },
  {
   "cell_type": "code",
   "execution_count": 15,
   "id": "82f07deb-a315-41c3-a1b4-ca26bd7991f7",
   "metadata": {},
   "outputs": [
    {
     "name": "stdout",
     "output_type": "stream",
     "text": [
      "[1, 0, 1, 0, 1, 0, 0, 1, 0, 1, 0, 1, 1, 0, 1, 0, 1, 0, 0, 1, 0, 1, 0, 1, 1, 0, 1, 0, 1, 0, 0, 1, 0, 1, 0, 1]\n"
     ]
    }
   ],
   "source": [
    "#two dices combination sum convert into 1's and 0's\n",
    "#even sum - 0\n",
    "#odd sum - 1\n",
    "res = [1 if (x+y)%2==0 else 0 for x in range(1,7) for y in range(1,7)]\n",
    "print(res)"
   ]
  },
  {
   "cell_type": "code",
   "execution_count": 18,
   "id": "e6e8f61f-bdb1-4573-b2f8-ae12e99aa855",
   "metadata": {},
   "outputs": [
    {
     "name": "stdin",
     "output_type": "stream",
     "text": [
      " 10\n"
     ]
    },
    {
     "name": "stdout",
     "output_type": "stream",
     "text": [
      "189\n"
     ]
    }
   ],
   "source": [
    "#count of all combinations and which is k ! =sum(of three dices)\n",
    "k = int(input())\n",
    "res = [(x,y,z) for x in range(1,7) for y in range(1,7) for z in range(1,7) if (x+y+z) != k]\n",
    "print(len(res))"
   ]
  },
  {
   "cell_type": "code",
   "execution_count": 20,
   "id": "38d0498c-a11e-49e2-bd76-8acc07bd4479",
   "metadata": {},
   "outputs": [
    {
     "name": "stdout",
     "output_type": "stream",
     "text": [
      "<class 'set'>\n",
      "{1, 2, 3, 4, 5, 6}\n"
     ]
    }
   ],
   "source": [
    "#set comprehension\n",
    "res={x for x in range(1,7)}\n",
    "print(type(res))\n",
    "print(res)"
   ]
  },
  {
   "cell_type": "code",
   "execution_count": 21,
   "id": "4cd5e12a-f08e-4c6a-b292-d5a0dd80ecfc",
   "metadata": {},
   "outputs": [
    {
     "name": "stdout",
     "output_type": "stream",
     "text": [
      "<class 'dict'>\n",
      "{1: 1, 2: 4, 3: 9, 4: 16, 5: 25, 6: 36}\n"
     ]
    }
   ],
   "source": [
    "#dict comprehension\n",
    "res={x:x**2 for x in range(1,7)}\n",
    "print(type(res))\n",
    "print(res)"
   ]
  },
  {
   "cell_type": "code",
   "execution_count": 22,
   "id": "f01e4371-cb83-4129-bd85-7568544c344c",
   "metadata": {},
   "outputs": [
    {
     "name": "stdout",
     "output_type": "stream",
     "text": [
      "<class 'generator'>\n",
      "<generator object <genexpr> at 0x0000018CECBCDB40>\n"
     ]
    }
   ],
   "source": [
    "#generator comprehension\n",
    "res=(x for x in range(1,7))\n",
    "print(type(res))\n",
    "print(res)"
   ]
  },
  {
   "cell_type": "code",
   "execution_count": 23,
   "id": "c72c2337-e3a2-4ba6-bdc8-045088ed5876",
   "metadata": {},
   "outputs": [
    {
     "name": "stdout",
     "output_type": "stream",
     "text": [
      "<class 'tuple'>\n",
      "(1, 2, 3, 4, 5, 6)\n"
     ]
    }
   ],
   "source": [
    "#tuple comprehension\n",
    "res=tuple(x for x in range(1,7))\n",
    "print(type(res))\n",
    "print(res)"
   ]
  },
  {
   "cell_type": "code",
   "execution_count": null,
   "id": "24a6c01e-4f41-4a2f-9d16-230e46d33dd8",
   "metadata": {},
   "outputs": [],
   "source": []
  }
 ],
 "metadata": {
  "kernelspec": {
   "display_name": "Python 3 (ipykernel)",
   "language": "python",
   "name": "python3"
  },
  "language_info": {
   "codemirror_mode": {
    "name": "ipython",
    "version": 3
   },
   "file_extension": ".py",
   "mimetype": "text/x-python",
   "name": "python",
   "nbconvert_exporter": "python",
   "pygments_lexer": "ipython3",
   "version": "3.13.7"
  }
 },
 "nbformat": 4,
 "nbformat_minor": 5
}
