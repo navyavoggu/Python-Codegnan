{
 "cells": [
  {
   "cell_type": "code",
   "execution_count": 2,
   "id": "75c3f0e4-c361-4244-86aa-412b6f1e49f1",
   "metadata": {},
   "outputs": [
    {
     "name": "stdout",
     "output_type": "stream",
     "text": [
      "this is from function defination: 30\n",
      "this is from function call: None\n"
     ]
    }
   ],
   "source": [
    "#Types of function based on parameters and return value\n",
    "#1.without parameter and without return value\n",
    "#-The function defination doesn't take parameter and doesn't return any value or expression\n",
    "#-The function defination execution is terminate when return statement is executed\n",
    "#-The function defination returns some expression otherwise None\n",
    "def sum_of_two_numbers():\n",
    "   x=10\n",
    "   y=20\n",
    "   c=x+y\n",
    "   print(\"this is from function defination:\",c)\n",
    "   return # function termination point\n",
    "   print(50)  #this statment\n",
    "#function call\n",
    "res=sum_of_two_numbers()\n",
    "print(\"this is from function call:\",res)"
   ]
  },
  {
   "cell_type": "code",
   "execution_count": null,
   "id": "7db3cdc0-8c2a-422f-8f00-c67a80a0ff06",
   "metadata": {},
   "outputs": [],
   "source": []
  }
 ],
 "metadata": {
  "kernelspec": {
   "display_name": "Python 3 (ipykernel)",
   "language": "python",
   "name": "python3"
  },
  "language_info": {
   "codemirror_mode": {
    "name": "ipython",
    "version": 3
   },
   "file_extension": ".py",
   "mimetype": "text/x-python",
   "name": "python",
   "nbconvert_exporter": "python",
   "pygments_lexer": "ipython3",
   "version": "3.13.7"
  }
 },
 "nbformat": 4,
 "nbformat_minor": 5
}
